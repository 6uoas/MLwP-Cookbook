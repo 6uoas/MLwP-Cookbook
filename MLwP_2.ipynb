{
  "nbformat": 4,
  "nbformat_minor": 0,
  "metadata": {
    "colab": {
      "provenance": [],
      "authorship_tag": "ABX9TyMm1p3tJwI/MTnPql5oxV04",
      "include_colab_link": true
    },
    "kernelspec": {
      "name": "python3",
      "display_name": "Python 3"
    },
    "language_info": {
      "name": "python"
    }
  },
  "cells": [
    {
      "cell_type": "markdown",
      "metadata": {
        "id": "view-in-github",
        "colab_type": "text"
      },
      "source": [
        "<a href=\"https://colab.research.google.com/github/6uoas/MLwP-Cookbook/blob/main/MLwP_2.ipynb\" target=\"_parent\"><img src=\"https://colab.research.google.com/assets/colab-badge.svg\" alt=\"Open In Colab\"/></a>"
      ]
    },
    {
      "cell_type": "code",
      "source": [
        "#loading a sample dataset\n",
        "from sklearn import datasets\n",
        "digits = datasets.load_digits()\n",
        "features = digits.data\n",
        "target = digits.target\n",
        "print(features[0])"
      ],
      "metadata": {
        "colab": {
          "base_uri": "https://localhost:8080/"
        },
        "id": "L_DrK7Qhbt9y",
        "outputId": "3697b084-9c75-43d3-96ca-f18907a9d2ef"
      },
      "execution_count": 20,
      "outputs": [
        {
          "output_type": "stream",
          "name": "stdout",
          "text": [
            "[ 0.  0.  5. 13.  9.  1.  0.  0.  0.  0. 13. 15. 10. 15.  5.  0.  0.  3.\n",
            " 15.  2.  0. 11.  8.  0.  0.  4. 12.  0.  0.  8.  8.  0.  0.  5.  8.  0.\n",
            "  0.  9.  8.  0.  0.  4. 11.  0.  1. 12.  7.  0.  0.  2. 14.  5. 10. 12.\n",
            "  0.  0.  0.  0.  6. 13. 10.  0.  0.  0.]\n"
          ]
        }
      ]
    },
    {
      "cell_type": "code",
      "source": [
        "#creating a simulated dataset\n",
        "from sklearn.datasets import make_regression # for linear regression\n",
        "\n",
        "features, target, coefficients = make_regression(n_samples=100,\n",
        "                                                 n_features=3,\n",
        "                                                 n_informative=3,\n",
        "                                                 n_targets=1,\n",
        "                                                 noise=0.0,\n",
        "                                                 coef=True,\n",
        "                                                 random_state=1)\n",
        "\n",
        "print('feature matirix \\n', features[:3])\n",
        "print('target vector \\n', target[:3])\n",
        "\n",
        "\n",
        "from sklearn.datasets import make_classification\n",
        "features, target  = make_classification(n_samples=100,\n",
        "                                        n_features=3,\n",
        "                                        n_informative=3,\n",
        "                                        n_redundant=0,\n",
        "                                        n_classes=2,\n",
        "                                        weights =[.25,.75],\n",
        "                                        random_state=1)\n",
        "print('feature matirix \\n', features[:3])\n",
        "print('target vector \\n', target[:3])\n",
        "\n",
        "\n",
        "from sklearn.datasets import make_blobs # for clustering\n",
        "features, target   = make_blobs(n_samples=100,\n",
        "                                n_features=3,\n",
        "                                centers=3,\n",
        "                                cluster_std=0.5,\n",
        "                                shuffle=True,\n",
        "                                random_state=1)\n",
        "print('feature matirix \\n', features[:3])\n",
        "print('target vector \\n', target[:3])\n",
        "\n",
        "import matplotlib.pyplot as plt\n",
        "plt.scatter(features[:,0], features[:,1], c=target)\n",
        "plt.show()"
      ],
      "metadata": {
        "colab": {
          "base_uri": "https://localhost:8080/",
          "height": 765
        },
        "id": "jtUeMTqHcADJ",
        "outputId": "498637ea-8849-4a04-b147-15b3c9be89cf"
      },
      "execution_count": 21,
      "outputs": [
        {
          "output_type": "stream",
          "name": "stdout",
          "text": [
            "feature matirix \n",
            " [[ 1.29322588 -0.61736206 -0.11044703]\n",
            " [-2.793085    0.36633201  1.93752881]\n",
            " [ 0.80186103 -0.18656977  0.0465673 ]]\n",
            "target vector \n",
            " [-10.37865986  25.5124503   19.67705609]\n",
            "feature matirix \n",
            " [[ 1.06354768 -1.42632219  1.02163151]\n",
            " [ 0.23156977  1.49535261  0.33251578]\n",
            " [ 0.15972951  0.83533515 -0.40869554]]\n",
            "target vector \n",
            " [1 0 0]\n",
            "feature matirix \n",
            " [[ -4.03447086  -6.9192931   -8.09919678]\n",
            " [ -4.34290202  -7.45371354  -7.84194671]\n",
            " [ -2.0997983    4.54555429 -10.03279089]]\n",
            "target vector \n",
            " [1 1 0]\n"
          ]
        },
        {
          "output_type": "display_data",
          "data": {
            "text/plain": [
              "<Figure size 640x480 with 1 Axes>"
            ],
            "image/png": "[encoded data removed]"
          },
          "metadata": {}
        }
      ]
    },
    {
      "cell_type": "code",
      "source": [
        "#loading a CSV file\n",
        "import pandas as pd\n",
        "#url = 'https://tinyurl.com/simulated-data'\n",
        "#dataframe = pd.read_csv(url)\n",
        "#dataframe.head(2)\n",
        "#404.."
      ],
      "metadata": {
        "id": "2de1ShWcdNnD"
      },
      "execution_count": 22,
      "outputs": []
    },
    {
      "cell_type": "code",
      "source": [
        "#loading an Excel file\n",
        "import pandas as pd\n",
        "#url = 'https://tinyurl.com/simulated-excel'\n",
        "#dataframe = pd.read_excel(url, sheet_name=0, header=1)\n",
        "#dataframe.head(2)\n",
        "#404 again"
      ],
      "metadata": {
        "id": "ryxzmDgofUCA"
      },
      "execution_count": 23,
      "outputs": []
    },
    {
      "cell_type": "code",
      "source": [
        "#loading a JSON file\n",
        "import pandas as pd\n",
        "#url = 'https://tinyurl.com/simulated-json'\n",
        "#dataframe = pd.read_json(url, orient='columns')\n",
        "#dataframe.head(2)"
      ],
      "metadata": {
        "id": "9PrYEF_IgZY3"
      },
      "execution_count": 24,
      "outputs": []
    },
    {
      "cell_type": "code",
      "source": [
        "# Querying a SQL database\n",
        "!wget https://github.com/rickiepark/machine-learning-with-python-cookbook/raw/master/sample.db -O sample.db\n",
        "\n",
        "import pandas as pd\n",
        "from sqlalchemy import create_engine\n",
        "\n",
        "#database_connection = create_engine('sqlite:///sample.db')\n",
        "#dataframe = pd.read_sql_query('SELECT * FROM data', database_connection)\n",
        "#dataframe.head(2)"
      ],
      "metadata": {
        "colab": {
          "base_uri": "https://localhost:8080/"
        },
        "id": "Tg4rYcHKhBFt",
        "outputId": "c6995ad5-6e55-4c5e-b8cf-14a18c1a492d"
      },
      "execution_count": 25,
      "outputs": [
        {
          "output_type": "stream",
          "name": "stdout",
          "text": [
            "--2024-01-09 04:47:21--  https://github.com/rickiepark/machine-learning-with-python-cookbook/raw/master/sample.db\n",
            "Resolving github.com (github.com)... 140.82.121.4\n",
            "Connecting to github.com (github.com)|140.82.121.4|:443... connected.\n",
            "HTTP request sent, awaiting response... 302 Found\n",
            "Location: https://raw.githubusercontent.com/rickiepark/machine-learning-with-python-cookbook/master/sample.db [following]\n",
            "--2024-01-09 04:47:22--  https://raw.githubusercontent.com/rickiepark/machine-learning-with-python-cookbook/master/sample.db\n",
            "Resolving raw.githubusercontent.com (raw.githubusercontent.com)... 185.199.108.133, 185.199.109.133, 185.199.110.133, ...\n",
            "Connecting to raw.githubusercontent.com (raw.githubusercontent.com)|185.199.108.133|:443... connected.\n",
            "HTTP request sent, awaiting response... 200 OK\n",
            "Length: 8192 (8.0K) [application/octet-stream]\n",
            "Saving to: ‘sample.db’\n",
            "\n",
            "sample.db           100%[===================>]   8.00K  --.-KB/s    in 0s      \n",
            "\n",
            "2024-01-09 04:47:22 (86.2 MB/s) - ‘sample.db’ saved [8192/8192]\n",
            "\n"
          ]
        }
      ]
    }
  ]
}