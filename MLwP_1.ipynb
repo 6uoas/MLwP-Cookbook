{
  "nbformat": 4,
  "nbformat_minor": 0,
  "metadata": {
    "colab": {
      "provenance": [],
      "authorship_tag": "ABX9TyPoLEKQZIt+vem/TiOW9q8+",
      "include_colab_link": true
    },
    "kernelspec": {
      "name": "python3",
      "display_name": "Python 3"
    },
    "language_info": {
      "name": "python"
    }
  },
  "cells": [
    {
      "cell_type": "markdown",
      "metadata": {
        "id": "view-in-github",
        "colab_type": "text"
      },
      "source": [
        "<a href=\"https://colab.research.google.com/github/6uoas/MLwP-Cookbook/blob/ch1-edit/MLwP_1.ipynb\" target=\"_parent\"><img src=\"https://colab.research.google.com/assets/colab-badge.svg\" alt=\"Open In Colab\"/></a>"
      ]
    },
    {
      "cell_type": "code",
      "execution_count": 53,
      "metadata": {
        "id": "VzCpn-NI3qMh"
      },
      "outputs": [],
      "source": [
        "#creating vector\n",
        "import numpy as np\n",
        "vector_row = np.array([1,2,3])\n",
        "vector_column = np.array([[1],\n",
        "                          [2],\n",
        "                          [3]])"
      ]
    },
    {
      "cell_type": "code",
      "source": [
        "vector_row, vector_column"
      ],
      "metadata": {
        "colab": {
          "base_uri": "https://localhost:8080/"
        },
        "id": "KIHWwfcMjIid",
        "outputId": "99c5de11-f9bb-4f7f-b3a6-dbd4c4b71a22"
      },
      "execution_count": 54,
      "outputs": [
        {
          "output_type": "execute_result",
          "data": {
            "text/plain": [
              "(array([1, 2, 3]),\n",
              " array([[1],\n",
              "        [2],\n",
              "        [3]]))"
            ]
          },
          "metadata": {},
          "execution_count": 54
        }
      ]
    },
    {
      "cell_type": "code",
      "source": [
        "#creating a matrix\n",
        "matrix = np.array([[1,2],\n",
        "                   [1,2],\n",
        "                   [1,2]])\n",
        "\n",
        "zero_matrix = np.zeros((3,2)) # input : tuple\n",
        "print(zero_matrix)\n",
        "one_matrix = np.ones((3,2))\n",
        "print(one_matrix)\n",
        "\n",
        "n = 10\n",
        "n_matrix = np.full((3,2),n)\n",
        "print(n_matrix)"
      ],
      "metadata": {
        "colab": {
          "base_uri": "https://localhost:8080/"
        },
        "id": "of1FMElzjLTu",
        "outputId": "32ba7220-0331-403c-f3fb-0cd670b862a7"
      },
      "execution_count": 55,
      "outputs": [
        {
          "output_type": "stream",
          "name": "stdout",
          "text": [
            "[[0. 0.]\n",
            " [0. 0.]\n",
            " [0. 0.]]\n",
            "[[1. 1.]\n",
            " [1. 1.]\n",
            " [1. 1.]]\n",
            "[[10 10]\n",
            " [10 10]\n",
            " [10 10]]\n"
          ]
        }
      ]
    },
    {
      "cell_type": "code",
      "source": [
        "#creating a sparse matrix\n",
        "from scipy import sparse\n",
        "\n",
        "matrix = np.array([[0,0],\n",
        "                   [0,1],\n",
        "                   [3,0]])\n",
        "\n",
        "matrix_sparse = sparse.csr_matrix(matrix)\n",
        "print(matrix_sparse)"
      ],
      "metadata": {
        "colab": {
          "base_uri": "https://localhost:8080/"
        },
        "id": "JFZ8ZKVLkqG6",
        "outputId": "14f67802-1bd8-4473-921b-686fbd32c7d3"
      },
      "execution_count": 56,
      "outputs": [
        {
          "output_type": "stream",
          "name": "stdout",
          "text": [
            "  (1, 1)\t1\n",
            "  (2, 0)\t3\n"
          ]
        }
      ]
    },
    {
      "cell_type": "code",
      "source": [
        "#indexing component\n",
        "vector = np.array([1,2,3,4,5,6])\n",
        "matrix = np.array([[1,2,3],\n",
        "                   [4,5,6],\n",
        "                   [7,8,9]])\n",
        "\n",
        "print(vector[2])\n",
        "print(matrix[1,1])\n",
        "print(matrix[:,2])\n",
        "\n",
        "#boolean masking\n",
        "print(matrix > 5)\n",
        "print(matrix[matrix>5])"
      ],
      "metadata": {
        "id": "vRMzYh_CnlRI",
        "colab": {
          "base_uri": "https://localhost:8080/"
        },
        "outputId": "31fc9fc8-4a6c-47c0-b606-b6bd1d5ff37a"
      },
      "execution_count": 57,
      "outputs": [
        {
          "output_type": "stream",
          "name": "stdout",
          "text": [
            "3\n",
            "5\n",
            "[3 6 9]\n",
            "[[False False False]\n",
            " [False False  True]\n",
            " [ True  True  True]]\n",
            "[6 7 8 9]\n"
          ]
        }
      ]
    },
    {
      "cell_type": "code",
      "source": [
        "#describing a matrix\n",
        "matrix = np.array([[1,2,3,4],\n",
        "                   [5,6,7,8],\n",
        "                   [9,10,11,12]])\n",
        "\n",
        "print(matrix.shape) # describing (rows, cols)\n",
        "print(matrix.size) # number of components in matrix\n",
        "print(matrix.ndim) # matrix-dimension"
      ],
      "metadata": {
        "colab": {
          "base_uri": "https://localhost:8080/"
        },
        "id": "VXymZGQlt_-_",
        "outputId": "94850b71-62d2-4afd-aa25-c496d7d5865e"
      },
      "execution_count": 58,
      "outputs": [
        {
          "output_type": "stream",
          "name": "stdout",
          "text": [
            "(3, 4)\n",
            "12\n",
            "2\n"
          ]
        }
      ]
    },
    {
      "cell_type": "code",
      "source": [
        "#applying operations to elements\n",
        "matrix = np.array([[1,2,3],\n",
        "                   [4,5,6],\n",
        "                   [7,8,9]])\n",
        "\n",
        "add_100 = lambda i: i+100\n",
        "vectorized_add_100 = np.vectorize(add_100) # input : function\n",
        "print(vectorized_add_100(matrix))# broadcasting\n",
        "print(matrix)"
      ],
      "metadata": {
        "colab": {
          "base_uri": "https://localhost:8080/"
        },
        "id": "TiyAZYpjuk0J",
        "outputId": "822ef806-e18b-4cde-b728-8dd8f094671e"
      },
      "execution_count": 59,
      "outputs": [
        {
          "output_type": "stream",
          "name": "stdout",
          "text": [
            "[[101 102 103]\n",
            " [104 105 106]\n",
            " [107 108 109]]\n",
            "[[1 2 3]\n",
            " [4 5 6]\n",
            " [7 8 9]]\n"
          ]
        }
      ]
    },
    {
      "cell_type": "code",
      "source": [
        "#finding the maximum and minimum values\n",
        "matrix = np.array([[1,2,3],\n",
        "                   [4,5,6],\n",
        "                   [7,8,9]])\n",
        "\n",
        "print(np.max(matrix))\n",
        "print(np.min(matrix))\n",
        "\n",
        "matrix = np.array([[1,3,2],\n",
        "                   [8,6,7],\n",
        "                   [9,0,10]])\n",
        "print(np.max(matrix, axis=1))\n",
        "print(np.min(matrix, axis=0))\n",
        "\n",
        "print()\n",
        "# adjusting dimension\n",
        "print(np.max(matrix, axis=1, keepdims=True))\n",
        "print(np.min(matrix, axis=0, keepdims=True))"
      ],
      "metadata": {
        "colab": {
          "base_uri": "https://localhost:8080/"
        },
        "id": "MdYpdqRAvqaP",
        "outputId": "1c98cb4f-f61f-4618-ddf9-1f03698892c3"
      },
      "execution_count": 60,
      "outputs": [
        {
          "output_type": "stream",
          "name": "stdout",
          "text": [
            "9\n",
            "1\n",
            "[ 3  8 10]\n",
            "[1 0 2]\n",
            "\n",
            "[[ 3]\n",
            " [ 8]\n",
            " [10]]\n",
            "[[1 0 2]]\n"
          ]
        }
      ]
    },
    {
      "cell_type": "code",
      "source": [
        "#calculating the average, variance, and standard deviation\n",
        "matrix = np.array([[1,2,3],\n",
        "                   [4,5,6],\n",
        "                   [7,8,9]])\n",
        "\n",
        "print(np.mean(matrix))\n",
        "print(np.var(matrix))\n",
        "print(np.std(matrix))\n",
        "\n",
        "print(np.mean(matrix, axis=1))"
      ],
      "metadata": {
        "colab": {
          "base_uri": "https://localhost:8080/"
        },
        "id": "qBZF4mdiwy_s",
        "outputId": "4f973f4f-49db-41bb-dd8d-8bfc282864f2"
      },
      "execution_count": 61,
      "outputs": [
        {
          "output_type": "stream",
          "name": "stdout",
          "text": [
            "5.0\n",
            "6.666666666666667\n",
            "2.581988897471611\n",
            "[2. 5. 8.]\n"
          ]
        }
      ]
    },
    {
      "cell_type": "code",
      "source": [
        "#reshaping arrays\n",
        "matrix = np.array([[1,2,3],\n",
        "                   [4,5,6],\n",
        "                   [7,8,9],\n",
        "                   [10,11,12]])\n",
        "\n",
        "print(matrix.reshape(3,4))\n",
        "print(matrix.reshape(2,6))\n",
        "print(matrix.reshape(4,-1))\n",
        "print(matrix.reshape(12))\n",
        "print(matrix)"
      ],
      "metadata": {
        "colab": {
          "base_uri": "https://localhost:8080/"
        },
        "id": "Wlawt8mxyfyR",
        "outputId": "00b96554-8bf4-4679-e6d4-20c411f1d31f"
      },
      "execution_count": 62,
      "outputs": [
        {
          "output_type": "stream",
          "name": "stdout",
          "text": [
            "[[ 1  2  3  4]\n",
            " [ 5  6  7  8]\n",
            " [ 9 10 11 12]]\n",
            "[[ 1  2  3  4  5  6]\n",
            " [ 7  8  9 10 11 12]]\n",
            "[[ 1  2  3]\n",
            " [ 4  5  6]\n",
            " [ 7  8  9]\n",
            " [10 11 12]]\n",
            "[ 1  2  3  4  5  6  7  8  9 10 11 12]\n",
            "[[ 1  2  3]\n",
            " [ 4  5  6]\n",
            " [ 7  8  9]\n",
            " [10 11 12]]\n"
          ]
        }
      ]
    },
    {
      "cell_type": "code",
      "source": [
        "#transposing a vector or matrix\n",
        "matrix = np.array([[1,4,7],\n",
        "                   [2,5,8],\n",
        "                   [3,6,9]])\n",
        "print(matrix.T)\n",
        "\n",
        "vector = np.array([[1,2,3,4,5,6]])\n",
        "print(vector.T)"
      ],
      "metadata": {
        "colab": {
          "base_uri": "https://localhost:8080/"
        },
        "id": "PXG-NuD1zKpn",
        "outputId": "42eff4e5-d3f9-4640-9891-7c8e078a7985"
      },
      "execution_count": 63,
      "outputs": [
        {
          "output_type": "stream",
          "name": "stdout",
          "text": [
            "[[1 2 3]\n",
            " [4 5 6]\n",
            " [7 8 9]]\n",
            "[[1]\n",
            " [2]\n",
            " [3]\n",
            " [4]\n",
            " [5]\n",
            " [6]]\n"
          ]
        }
      ]
    },
    {
      "cell_type": "code",
      "source": [
        "#flattening a matrix\n",
        "matrix = np.array([[1,2,3],\n",
        "                   [4,5,6],\n",
        "                   [7,8,9]])\n",
        "\n",
        "print(matrix.flatten())\n",
        "print(matrix)"
      ],
      "metadata": {
        "colab": {
          "base_uri": "https://localhost:8080/"
        },
        "id": "Gk7ta2vezxoX",
        "outputId": "265be1e4-9b10-4ebd-c89a-bed40a25851b"
      },
      "execution_count": 64,
      "outputs": [
        {
          "output_type": "stream",
          "name": "stdout",
          "text": [
            "[1 2 3 4 5 6 7 8 9]\n",
            "[[1 2 3]\n",
            " [4 5 6]\n",
            " [7 8 9]]\n"
          ]
        }
      ]
    },
    {
      "cell_type": "code",
      "source": [
        "#finding the rank of a matrix\n",
        "matrix = np.array([[1,1,1],\n",
        "                   [1,1,10],\n",
        "                   [1,1,15]])\n",
        "print(np.linalg.matrix_rank(matrix))"
      ],
      "metadata": {
        "colab": {
          "base_uri": "https://localhost:8080/"
        },
        "id": "0_D0ruyU0I5F",
        "outputId": "99c4175e-5f01-4e41-8e42-462a453a15d5"
      },
      "execution_count": 66,
      "outputs": [
        {
          "output_type": "stream",
          "name": "stdout",
          "text": [
            "2\n"
          ]
        }
      ]
    },
    {
      "cell_type": "markdown",
      "source": [
        "> In linear algebra, the **rank** of a matrix A is the **dimension of the vector space generated (or spanned) by its columns.** *Axler, Sheldon (2015). Linear Algebra Done Right. Undergraduate Texts in Mathematics (3rd ed.).*"
      ],
      "metadata": {
        "id": "WWZt2nTbQcjT"
      }
    },
    {
      "cell_type": "code",
      "source": [
        "#calculating the determinant\n",
        "matrix = np.array([[1,2,3],\n",
        "                   [2,4,6],\n",
        "                   [3,8,9]])\n",
        "print(np.linalg.det(matrix))"
      ],
      "metadata": {
        "colab": {
          "base_uri": "https://localhost:8080/"
        },
        "id": "A0tgMS7r0jHd",
        "outputId": "0cf94d95-1a37-45d5-871c-dc82b95f60ef"
      },
      "execution_count": 67,
      "outputs": [
        {
          "output_type": "stream",
          "name": "stdout",
          "text": [
            "0.0\n"
          ]
        }
      ]
    },
    {
      "cell_type": "code",
      "source": [
        "#getting the diagonal of a matrix\n",
        "matrix = np.array([[1,2,3],\n",
        "                   [2,4,6],\n",
        "                   [3,8,9]])\n",
        "print(matrix.diagonal())\n",
        "print(matrix.diagonal(offset=1))\n",
        "print(matrix.diagonal(offset=-1))"
      ],
      "metadata": {
        "colab": {
          "base_uri": "https://localhost:8080/"
        },
        "id": "_1NlsSyWRn7e",
        "outputId": "eae516be-dfc1-4b5b-e90e-5eba6a817deb"
      },
      "execution_count": 69,
      "outputs": [
        {
          "output_type": "stream",
          "name": "stdout",
          "text": [
            "[1 4 9]\n",
            "[2 6]\n",
            "[2 8]\n"
          ]
        }
      ]
    },
    {
      "cell_type": "code",
      "source": [
        "#calculating the trace of a matrix\n",
        "matrix = np.array([[1,2,3],\n",
        "                   [2,4,6],\n",
        "                   [3,8,9]])\n",
        "print(matrix.trace())\n",
        "print(matrix.trace(offset=1))\n",
        "print(matrix.trace(offset=-1))"
      ],
      "metadata": {
        "colab": {
          "base_uri": "https://localhost:8080/"
        },
        "id": "O3oGKYXsR82l",
        "outputId": "18858c48-8297-450b-95db-27fd0d761d66"
      },
      "execution_count": 72,
      "outputs": [
        {
          "output_type": "stream",
          "name": "stdout",
          "text": [
            "14\n",
            "8\n",
            "10\n"
          ]
        }
      ]
    },
    {
      "cell_type": "code",
      "source": [
        "#finding eigenvalues and eigenvectors\n",
        "matrix = np.array([[1,-1,3],\n",
        "                   [1,1,6],\n",
        "                   [3,8,9]])\n",
        "eigenvalues, eigenvectors = np.linalg.eig(matrix)\n",
        "print(f\"eigenvalues = {eigenvalues}\")\n",
        "print(f\"eigenvectors = {eigenvectors}\")"
      ],
      "metadata": {
        "colab": {
          "base_uri": "https://localhost:8080/"
        },
        "id": "osuKGDdWSxdD",
        "outputId": "6b06bcca-342a-416b-cdba-64e643cca0a6"
      },
      "execution_count": 74,
      "outputs": [
        {
          "output_type": "stream",
          "name": "stdout",
          "text": [
            "eigenvalues = [13.55075847  0.74003145 -3.29078992]\n",
            "eigenvectors = [[-0.17622017 -0.96677403 -0.53373322]\n",
            " [-0.435951    0.2053623  -0.64324848]\n",
            " [-0.88254925  0.15223105  0.54896288]]\n"
          ]
        }
      ]
    },
    {
      "cell_type": "code",
      "source": [
        "#calculating dot products\n",
        "vector_a = np.array([1,2,3])\n",
        "vector_b = np.array([4,5,6])\n",
        "1*4+2*5+3*6\n",
        "print(np.dot(vector_a, vector_b))"
      ],
      "metadata": {
        "colab": {
          "base_uri": "https://localhost:8080/"
        },
        "id": "JkNZM_wjYlDZ",
        "outputId": "7cc03e71-82b7-477f-85f7-549b43b8ae7d"
      },
      "execution_count": 78,
      "outputs": [
        {
          "output_type": "stream",
          "name": "stdout",
          "text": [
            "32\n"
          ]
        }
      ]
    },
    {
      "cell_type": "code",
      "source": [
        "#adding and subtracting matrices\n",
        "matrix_a = np.array([[1,1,1],\n",
        "                     [1,1,1],\n",
        "                     [1,3,8]])\n",
        "matrix_b = np.array([[1,3,1],\n",
        "                     [1,3,1],\n",
        "                     [1,3,8]])\n",
        "\n",
        "print(np.add(matrix_a, matrix_b))\n",
        "\n",
        "print(np.subtract(matrix_a, matrix_b))"
      ],
      "metadata": {
        "colab": {
          "base_uri": "https://localhost:8080/"
        },
        "id": "hZ6nTZ5TcO2r",
        "outputId": "f0a8f6fa-c7dd-42df-f4f2-c3e44311ea6d"
      },
      "execution_count": 80,
      "outputs": [
        {
          "output_type": "stream",
          "name": "stdout",
          "text": [
            "[[ 2  4  2]\n",
            " [ 2  4  2]\n",
            " [ 2  6 16]]\n",
            "[[ 0 -2  0]\n",
            " [ 0 -2  0]\n",
            " [ 0  0  0]]\n"
          ]
        }
      ]
    },
    {
      "cell_type": "code",
      "source": [
        "#multplying matrices\n",
        "matrix_a = np.array([[1,1],\n",
        "                     [1,2]])\n",
        "matrix_b = np.array([[1,3],\n",
        "                     [1,2]])\n",
        "print(np.dot(matrix_a, matrix_b))\n",
        "print(matrix_a @ matrix_b) # python 3.5\n",
        "print()\n",
        "print(matrix_a * matrix_b)"
      ],
      "metadata": {
        "colab": {
          "base_uri": "https://localhost:8080/"
        },
        "id": "UtTbuuJQcuLi",
        "outputId": "65ce65c2-f908-40e6-caa9-db4c74935e7e"
      },
      "execution_count": 83,
      "outputs": [
        {
          "output_type": "stream",
          "name": "stdout",
          "text": [
            "[[2 5]\n",
            " [3 7]]\n",
            "[[2 5]\n",
            " [3 7]]\n",
            "\n",
            "[[1 3]\n",
            " [1 4]]\n"
          ]
        }
      ]
    },
    {
      "cell_type": "code",
      "source": [
        "#invering a matrix\n",
        "matrix = np.array([[1,4],\n",
        "                   [2,5]])\n",
        "print(np.linalg.inv(matrix))\n",
        "print(matrix @ np.linalg.inv(matrix))"
      ],
      "metadata": {
        "colab": {
          "base_uri": "https://localhost:8080/"
        },
        "id": "TbJO6DF8c9vA",
        "outputId": "84e73eab-41dd-4fb3-87f3-5eb452335aa4"
      },
      "execution_count": 85,
      "outputs": [
        {
          "output_type": "stream",
          "name": "stdout",
          "text": [
            "[[-1.66666667  1.33333333]\n",
            " [ 0.66666667 -0.33333333]]\n",
            "[[1.00000000e+00 0.00000000e+00]\n",
            " [1.11022302e-16 1.00000000e+00]]\n"
          ]
        }
      ]
    },
    {
      "cell_type": "code",
      "source": [
        "#generating random values\n",
        "np.random.seed(0)\n",
        "print(np.random.random(3))\n",
        "print(np.random.randint(0,11,3)) # 1~10 , intiger 3EA\n",
        "print(np.random.normal(0.0, 1.0, 3)) #mean, std, nEA\n",
        "print(np.random.logistic(0.0, 1.0, 3)) # mean, scale, nEA\n",
        "print(np.random.uniform(1.0, 2.0, 3)) # 1~2, 3EA"
      ],
      "metadata": {
        "colab": {
          "base_uri": "https://localhost:8080/"
        },
        "id": "Y6WjnhIWgRSj",
        "outputId": "94a412dc-7f86-4684-ae1e-4282f566be22"
      },
      "execution_count": 91,
      "outputs": [
        {
          "output_type": "stream",
          "name": "stdout",
          "text": [
            "[0.5488135  0.71518937 0.60276338]\n",
            "[3 7 9]\n",
            "[-1.42232584  1.52006949 -0.29139398]\n",
            "[-0.98118713 -0.08939902  1.46416405]\n",
            "[1.47997717 1.3927848  1.83607876]\n"
          ]
        }
      ]
    },
    {
      "cell_type": "code",
      "source": [],
      "metadata": {
        "id": "6suZ92zWhT6k"
      },
      "execution_count": null,
      "outputs": []
    }
  ]
}