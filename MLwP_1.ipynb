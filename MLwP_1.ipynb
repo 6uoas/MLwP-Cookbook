{
  "nbformat": 4,
  "nbformat_minor": 0,
  "metadata": {
    "colab": {
      "provenance": [],
      "authorship_tag": "ABX9TyPZhSQ6eCe5oINLUOGxRG4c",
      "include_colab_link": true
    },
    "kernelspec": {
      "name": "python3",
      "display_name": "Python 3"
    },
    "language_info": {
      "name": "python"
    }
  },
  "cells": [
    {
      "cell_type": "markdown",
      "metadata": {
        "id": "view-in-github",
        "colab_type": "text"
      },
      "source": [
        "<a href=\"https://colab.research.google.com/github/6uoas/MLwP-Cookbook/blob/main/MLwP_1.ipynb\" target=\"_parent\"><img src=\"https://colab.research.google.com/assets/colab-badge.svg\" alt=\"Open In Colab\"/></a>"
      ]
    },
    {
      "cell_type": "code",
      "execution_count": 1,
      "metadata": {
        "id": "VzCpn-NI3qMh"
      },
      "outputs": [],
      "source": [
        "#creating vector\n",
        "import numpy as np\n",
        "vector_row = np.array([1,2,3])\n",
        "vector_column = np.array([[1],\n",
        "                          [2],\n",
        "                          [3]])"
      ]
    },
    {
      "cell_type": "code",
      "source": [
        "vector_row, vector_column"
      ],
      "metadata": {
        "colab": {
          "base_uri": "https://localhost:8080/"
        },
        "id": "KIHWwfcMjIid",
        "outputId": "15b4c3c7-eb3e-441e-d7a2-45175c55c847"
      },
      "execution_count": 2,
      "outputs": [
        {
          "output_type": "execute_result",
          "data": {
            "text/plain": [
              "(array([1, 2, 3]),\n",
              " array([[1],\n",
              "        [2],\n",
              "        [3]]))"
            ]
          },
          "metadata": {},
          "execution_count": 2
        }
      ]
    },
    {
      "cell_type": "code",
      "source": [
        "#creating a matrix\n",
        "matrix = np.array([[1,2],\n",
        "                   [1,2],\n",
        "                   [1,2]])\n",
        "\n",
        "zero_matrix = np.zeros((3,2)) # input : tuple\n",
        "print(zero_matrix)\n",
        "one_matrix = np.ones((3,2))\n",
        "print(one_matrix)\n",
        "\n",
        "n = 10\n",
        "n_matrix = np.full((3,2),n)\n",
        "print(n_matrix)"
      ],
      "metadata": {
        "colab": {
          "base_uri": "https://localhost:8080/"
        },
        "id": "of1FMElzjLTu",
        "outputId": "4b36624d-97ab-4ddb-8c94-91df4d75c973"
      },
      "execution_count": 6,
      "outputs": [
        {
          "output_type": "stream",
          "name": "stdout",
          "text": [
            "[[0. 0.]\n",
            " [0. 0.]\n",
            " [0. 0.]]\n",
            "[[1. 1.]\n",
            " [1. 1.]\n",
            " [1. 1.]]\n",
            "[[10 10]\n",
            " [10 10]\n",
            " [10 10]]\n"
          ]
        }
      ]
    },
    {
      "cell_type": "code",
      "source": [
        "#creating a sparse matrix\n",
        "from scipy import sparse\n",
        "\n",
        "matrix = np.array([[0,0],\n",
        "                   [0,1],\n",
        "                   [3,0]])\n",
        "\n",
        "matrix_sparse = sparse.csr_matrix(matrix)\n",
        "print(matrix_sparse)"
      ],
      "metadata": {
        "colab": {
          "base_uri": "https://localhost:8080/"
        },
        "id": "JFZ8ZKVLkqG6",
        "outputId": "f2e8ab6c-16b6-4f06-bedf-34a8fddd1704"
      },
      "execution_count": 8,
      "outputs": [
        {
          "output_type": "stream",
          "name": "stdout",
          "text": [
            "  (1, 1)\t1\n",
            "  (2, 0)\t3\n"
          ]
        }
      ]
    },
    {
      "cell_type": "code",
      "source": [],
      "metadata": {
        "id": "vRMzYh_CnlRI"
      },
      "execution_count": null,
      "outputs": []
    }
  ]
}